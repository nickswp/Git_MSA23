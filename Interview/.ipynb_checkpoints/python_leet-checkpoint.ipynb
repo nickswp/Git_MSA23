{
 "cells": [
  {
   "cell_type": "code",
   "execution_count": 49,
   "id": "184fedb5",
   "metadata": {},
   "outputs": [],
   "source": [
    "# 1. Two Sum\n",
    "def twoSum(nums, target):\n",
    "    for i in range(len(nums)):\n",
    "        for j in range(i+1, len(nums)):\n",
    "            if nums[j] == target - nums[i]:\n",
    "                return [i,j]"
   ]
  },
  {
   "cell_type": "code",
   "execution_count": 52,
   "id": "2ad287be",
   "metadata": {},
   "outputs": [
    {
     "data": {
      "text/plain": [
       "[0, 1]"
      ]
     },
     "execution_count": 52,
     "metadata": {},
     "output_type": "execute_result"
    }
   ],
   "source": [
    "nums = [2,7,11,15]\n",
    "target = 9\n",
    "twoSum(nums, target)"
   ]
  },
  {
   "cell_type": "code",
   "execution_count": 43,
   "id": "5c49fc54",
   "metadata": {},
   "outputs": [],
   "source": [
    "# 13. Roman to Integer\n",
    "def romanToInt(s):\n",
    "    roman = {\n",
    "        \"I\" : 1,\n",
    "        \"V\" : 5,\n",
    "        \"X\" : 10,\n",
    "        \"L\" : 50,\n",
    "        \"C\" : 100,\n",
    "        \"D\" : 500,\n",
    "        \"M\" : 1000\n",
    "    }\n",
    "\n",
    "    sum = roman[s[-1]] # start with the value of the last character.\n",
    "    for i in range(len(s)-1):\n",
    "        if roman[s[i]] < roman[s[i+1]]:\n",
    "            sum = sum - roman[s[i]]\n",
    "        else:\n",
    "            sum = sum + roman[s[i]]\n",
    "\n",
    "    return(sum)\n",
    "\n",
    "    \"\"\"\n",
    "    :type s: str\n",
    "    :rtype: int\n",
    "    \"\"\""
   ]
  },
  {
   "cell_type": "code",
   "execution_count": 44,
   "id": "04105b93",
   "metadata": {},
   "outputs": [
    {
     "data": {
      "text/plain": [
       "1994"
      ]
     },
     "execution_count": 44,
     "metadata": {},
     "output_type": "execute_result"
    }
   ],
   "source": [
    "# s = \"MCMXCIV\"\n",
    "# s = \"LVIII\"\n",
    "# s = \"III\"\n",
    "\n",
    "s = \"MCMXCIV\"\n",
    "romanToInt(s)"
   ]
  },
  {
   "cell_type": "code",
   "execution_count": 255,
   "id": "4e7bc41a",
   "metadata": {},
   "outputs": [],
   "source": [
    "# 14. Longest Common Prefix\n",
    "\n",
    "def longestCommonPrefix(strs):\n",
    "    if not strs:\n",
    "        return \"\"   # for empty string\n",
    "    shortest = min(strs,key=len) # choose shortest of the strs\n",
    "    print(shortest)\n",
    "\n",
    "    for i, ch in enumerate(shortest): # enumerate each charater within the word\n",
    "        for other in strs:\n",
    "            print(i, ch)\n",
    "            if other[i] != ch: # loop until the each enumerated letter doesn't match\n",
    "                return shortest[:i] # when stopped, print one before the unmatching character\n",
    "    return shortest "
   ]
  },
  {
   "cell_type": "code",
   "execution_count": 256,
   "id": "874cc03e",
   "metadata": {},
   "outputs": [
    {
     "name": "stdout",
     "output_type": "stream",
     "text": [
      "flow\n",
      "0 f\n",
      "0 f\n",
      "0 f\n",
      "1 l\n",
      "1 l\n",
      "1 l\n",
      "2 o\n",
      "2 o\n",
      "2 o\n"
     ]
    },
    {
     "data": {
      "text/plain": [
       "'fl'"
      ]
     },
     "execution_count": 256,
     "metadata": {},
     "output_type": "execute_result"
    }
   ],
   "source": [
    "strs = [\"flower\",\"flow\",\"flight\"]\n",
    "longestCommonPrefix(strs)"
   ]
  },
  {
   "cell_type": "code",
   "execution_count": 261,
   "id": "2ca3b282",
   "metadata": {},
   "outputs": [
    {
     "name": "stdout",
     "output_type": "stream",
     "text": [
      "0 f\n",
      "1 l\n",
      "2 o\n",
      "3 w\n"
     ]
    }
   ],
   "source": [
    "shortest = 'flow'\n",
    "for i, ch in enumerate(shortest): ## outputs position and value\n",
    "    print(i,ch)\n",
    "# for ch in shortest:\n",
    "#     print(ch)"
   ]
  },
  {
   "cell_type": "code",
   "execution_count": 54,
   "id": "81b9e4c7",
   "metadata": {},
   "outputs": [],
   "source": [
    "# 412. Fizz Buzz\n",
    "\n",
    "def fizzBuzz(n):\n",
    "    answer = []\n",
    "    for i in range(1, n+1):\n",
    "        if i % 5 == 0 and i % 3 == 0:\n",
    "            answer.append(\"FizzBuzz\")\n",
    "            # return(\"FizzBuzz\")\n",
    "        elif i % 3 == 0:\n",
    "            answer.append(\"Fizz\")\n",
    "            # return(\"Fizz\")\n",
    "        elif i % 5 == 0:\n",
    "            answer.append(\"Buzz\")\n",
    "            # return(\"Buzz\")\n",
    "        else :\n",
    "            answer.append(str(i))\n",
    "            # return(str(i))\n",
    "    return(answer)\n",
    "    \"\"\"\n",
    "    :type n: int\n",
    "    :rtype: List[str]\n",
    "    \"\"\""
   ]
  },
  {
   "cell_type": "code",
   "execution_count": 73,
   "id": "40f30254",
   "metadata": {},
   "outputs": [
    {
     "name": "stdout",
     "output_type": "stream",
     "text": [
      "0\n"
     ]
    }
   ],
   "source": [
    "x = range(0, 2, 2)\n",
    "for n in x:\n",
    "  print(n)"
   ]
  },
  {
   "cell_type": "code",
   "execution_count": 76,
   "id": "eebbeb8f",
   "metadata": {},
   "outputs": [
    {
     "name": "stdout",
     "output_type": "stream",
     "text": [
      "2\n",
      "['1']\n"
     ]
    }
   ],
   "source": [
    "# 20. Valid Parentheses\n",
    "def isValid(s):\n",
    "    stack = []\n",
    "    dict = {\"]\":\"[\", \"}\":\"{\", \")\":\"(\"}\n",
    "    for char in s:\n",
    "        if char in dict.values():   # [, {, (\n",
    "            stack.append(char)      # save them\n",
    "        elif char in dict.keys():   # ], }, )\n",
    "            if stack == [] or dict[char] != stack.pop(): # empty or last one saved opening bracket does not match\n",
    "                return False\n",
    "        else:\n",
    "            return False\n",
    "    return stack == [] ## if all the brackets are closed properly, stack should be empty."
   ]
  },
  {
   "cell_type": "code",
   "execution_count": 99,
   "id": "fe56f2ec",
   "metadata": {},
   "outputs": [
    {
     "name": "stdout",
     "output_type": "stream",
     "text": [
      "[[1, 2, 4], [1, 3, 4]]\n"
     ]
    }
   ],
   "source": [
    "list1 = [1,2,4]\n",
    "list2 = [1,3,4]\n",
    "\n",
    "list_comb = [list1, list2]\n",
    "print(list_comb)"
   ]
  },
  {
   "cell_type": "code",
   "execution_count": 96,
   "id": "4a2e0ef1",
   "metadata": {},
   "outputs": [
    {
     "data": {
      "text/plain": [
       "0"
      ]
     },
     "execution_count": 96,
     "metadata": {},
     "output_type": "execute_result"
    }
   ],
   "source": [
    "list_comb.index(min(list_comb))"
   ]
  },
  {
   "cell_type": "code",
   "execution_count": 144,
   "id": "451ae691",
   "metadata": {},
   "outputs": [],
   "source": [
    "# 26. Remove Duplicates from Sorted Array\n",
    "def removeDuplicates(nums):\n",
    "    for n in range(len(nums)):\n",
    "        if nums[n] == '_' :\n",
    "            continue\n",
    "        else :\n",
    "            for m in range(len(nums[n+1:])) :\n",
    "                if nums[n] == nums[n+m+1] :\n",
    "                    nums[n+m+1] = '_'\n",
    "    number = []\n",
    "    not_number = []\n",
    "    for n in range(len(nums)) :\n",
    "        if type(nums[n]) == int :\n",
    "            number.append(nums[n])\n",
    "        else :\n",
    "            not_number.append(nums[n])\n",
    "    nums = number + not_number\n",
    "    return(len(number), nums)\n",
    "#     return(nums)"
   ]
  },
  {
   "cell_type": "code",
   "execution_count": 146,
   "id": "dbe71364",
   "metadata": {},
   "outputs": [
    {
     "data": {
      "text/plain": [
       "(5, [0, 1, 2, 3, 4, '_', '_', '_', '_', '_'])"
      ]
     },
     "execution_count": 146,
     "metadata": {},
     "output_type": "execute_result"
    }
   ],
   "source": [
    "nums = [0,0,1,1,1,2,2,3,3,4]\n",
    "# nums = [1,1,2]\n",
    "# nums[1:]\n",
    "removeDuplicates(nums)"
   ]
  },
  {
   "cell_type": "code",
   "execution_count": 147,
   "id": "7c6f7b7b",
   "metadata": {},
   "outputs": [],
   "source": [
    "# 26. Remove Duplicates from Sorted Array - faster solution\n",
    "def removeDuplicates(nums):\n",
    "    j = 0\n",
    "    for i in range(1, len(nums)):\n",
    "        if nums[j] != nums[i]:  # loop through until you find the this\n",
    "            j += 1              # once you find it, move index by 1\n",
    "            nums[j] = nums[i]   # record the newly identified number\n",
    "    return j + 1                # count, so +1"
   ]
  },
  {
   "cell_type": "code",
   "execution_count": 149,
   "id": "469e5de0",
   "metadata": {},
   "outputs": [
    {
     "name": "stdout",
     "output_type": "stream",
     "text": [
      "5\n",
      "[0, 1, 2, 3, 4, 2, 2, 3, 3, 4]\n"
     ]
    }
   ],
   "source": [
    "nums = [0,0,1,1,1,2,2,3,3,4]\n",
    "# nums = [1,1,2]\n",
    "# nums[1:]\n",
    "print(removeDuplicates(nums))\n",
    "print(nums)"
   ]
  },
  {
   "cell_type": "code",
   "execution_count": 1,
   "id": "03aff608",
   "metadata": {},
   "outputs": [],
   "source": [
    "# 28. Find the Index of the First Occurrence in a String\n",
    "def strStr(haystack, needle):\n",
    "    width = len(needle)\n",
    "    output = -1\n",
    "    for i in range(0, len(haystack)-width+1):\n",
    "        if haystack[i:i+width] == needle:\n",
    "            output = i\n",
    "            break\n",
    "    return output\n",
    "\n",
    "    \"\"\"\n",
    "    :type haystack: str\n",
    "    :type needle: str\n",
    "    :rtype: int\n",
    "    \"\"\""
   ]
  },
  {
   "cell_type": "code",
   "execution_count": 2,
   "id": "9af20029",
   "metadata": {},
   "outputs": [
    {
     "data": {
      "text/plain": [
       "0"
      ]
     },
     "execution_count": 2,
     "metadata": {},
     "output_type": "execute_result"
    }
   ],
   "source": [
    "haystack = \"sadbutsad\"\n",
    "needle = \"sad\"\n",
    "# haystack = \"leetcode\"\n",
    "# needle = \"leeto\"\n",
    "strStr(haystack, needle)"
   ]
  },
  {
   "cell_type": "code",
   "execution_count": 29,
   "id": "be1e3722",
   "metadata": {},
   "outputs": [],
   "source": [
    "# 66. Plus One\n",
    "def plusOne(digits):\n",
    "    digits_c = str()\n",
    "    for i in digits:\n",
    "        digits_c += str(i)\n",
    "\n",
    "    digits_c = int(digits_c) + 1\n",
    "    digits_c = str(digits_c)\n",
    "\n",
    "    answer = []\n",
    "    for element in digits_c :\n",
    "        answer.append(int(element))\n",
    "    return answer"
   ]
  },
  {
   "cell_type": "code",
   "execution_count": 30,
   "id": "749749f7",
   "metadata": {},
   "outputs": [
    {
     "data": {
      "text/plain": [
       "[4, 3, 2, 2]"
      ]
     },
     "execution_count": 30,
     "metadata": {},
     "output_type": "execute_result"
    }
   ],
   "source": [
    "digits = [4,3,2,1]\n",
    "# digits = [9]\n",
    "\n",
    "plusOne(digits)"
   ]
  },
  {
   "cell_type": "code",
   "execution_count": 31,
   "id": "e25a2f1e",
   "metadata": {},
   "outputs": [],
   "source": [
    "# 69. Sqrt(x)\n",
    "def mySqrt(x):\n",
    "    answer = 0\n",
    "    while answer*answer <= x :\n",
    "        answer += 1\n",
    "    return(answer-1)"
   ]
  },
  {
   "cell_type": "code",
   "execution_count": 33,
   "id": "7999ec4b",
   "metadata": {},
   "outputs": [
    {
     "data": {
      "text/plain": [
       "2"
      ]
     },
     "execution_count": 33,
     "metadata": {},
     "output_type": "execute_result"
    }
   ],
   "source": [
    "# x = 4\n",
    "x = 8\n",
    "mySqrt(x)"
   ]
  },
  {
   "cell_type": "code",
   "execution_count": 126,
   "id": "71fe3e21",
   "metadata": {},
   "outputs": [],
   "source": [
    "# 70. Climbing Stairs\n",
    "def climbStairs(n):\n",
    "    if n <= 2:\n",
    "        return(n)\n",
    "    else :\n",
    "        max_two = n // 2\n",
    "        steps = 0\n",
    "        for two_count in range(max_two+1):\n",
    "            one_count = n - 2*two_count\n",
    "            fact_numerator = 1\n",
    "            fact_two = 1\n",
    "            fact_one = 1\n",
    "            for x in range(two_count + one_count):\n",
    "                fact_numerator *= (x+1)\n",
    "            for t in range(two_count):\n",
    "                fact_two *= (t+1)\n",
    "            for o in range(one_count):\n",
    "                fact_one *= (o+1)\n",
    "            steps += fact_numerator / (fact_two * fact_one)        \n",
    "    return(steps)"
   ]
  },
  {
   "cell_type": "code",
   "execution_count": 127,
   "id": "1c914941",
   "metadata": {},
   "outputs": [
    {
     "data": {
      "text/plain": [
       "3.0"
      ]
     },
     "execution_count": 127,
     "metadata": {},
     "output_type": "execute_result"
    }
   ],
   "source": [
    "n = 3\n",
    "climbStairs(n)"
   ]
  },
  {
   "cell_type": "code",
   "execution_count": 171,
   "id": "d2b033da",
   "metadata": {},
   "outputs": [],
   "source": [
    "# 88. Merge Sorted Array\n",
    "def merge(nums1, m, nums2, n):\n",
    "    for x1 in range(len(nums1)) :\n",
    "        if x1 >= m :\n",
    "            nums1[x1] = 0\n",
    "#     print(nums1)    \n",
    "    for x2 in range(len(nums2)) :\n",
    "        nums1[m+x2] = nums2[x2]\n",
    "    \n",
    "    nums1.sort()\n",
    "    return(nums1)"
   ]
  },
  {
   "cell_type": "code",
   "execution_count": 172,
   "id": "62012fdd",
   "metadata": {},
   "outputs": [
    {
     "name": "stdout",
     "output_type": "stream",
     "text": [
      "[1, 2, 3, 0, 0, 0]\n"
     ]
    },
    {
     "data": {
      "text/plain": [
       "[1, 2, 2, 3, 5, 6]"
      ]
     },
     "execution_count": 172,
     "metadata": {},
     "output_type": "execute_result"
    }
   ],
   "source": [
    "nums1 = [1,2,3,0,0,0]\n",
    "m = 3\n",
    "nums2 = [2,5,6]\n",
    "n = 3\n",
    "\n",
    "merge(nums1, m, nums2, n)"
   ]
  },
  {
   "cell_type": "code",
   "execution_count": 179,
   "id": "57a982e0",
   "metadata": {},
   "outputs": [],
   "source": [
    "# 118. Pascal's Triangle\n",
    "def generate(numRows):\n",
    "    if numRows == 1:\n",
    "        stack = [[1]]\n",
    "    elif numRows == 2:\n",
    "        stack = [[1], [1,1]]\n",
    "    else :\n",
    "        stack = [[1], [1,1]]\n",
    "        for r in range(2, numRows) :\n",
    "            x = [None] * (r+1)\n",
    "            x[0] = 1\n",
    "            x[-1] = 1\n",
    "            for element in range(1, r) :\n",
    "                x[element] = stack[r-1][element - 1] + stack[r-1][element]\n",
    "            stack.append(x)\n",
    "    return(stack)"
   ]
  },
  {
   "cell_type": "code",
   "execution_count": 180,
   "id": "4bde5e6e",
   "metadata": {},
   "outputs": [
    {
     "data": {
      "text/plain": [
       "[[1], [1, 1], [1, 2, 1], [1, 3, 3, 1], [1, 4, 6, 4, 1]]"
      ]
     },
     "execution_count": 180,
     "metadata": {},
     "output_type": "execute_result"
    }
   ],
   "source": [
    "generate(5)"
   ]
  },
  {
   "cell_type": "code",
   "execution_count": 196,
   "id": "a53ea11f",
   "metadata": {},
   "outputs": [],
   "source": [
    "def maxProfit(prices):\n",
    "    answer = 0\n",
    "    iteration = 0\n",
    "    max_iter = len(prices) - 1\n",
    "    while iteration < max_iter :\n",
    "        # print(iteration)\n",
    "        min_now = min(prices)\n",
    "        p_after = prices[prices.index(min_now)+1:]\n",
    "        if len(p_after) == 0 :\n",
    "            prices.remove(min_now)\n",
    "            iteration +=1\n",
    "        else :\n",
    "            answer = max(p_after) - min_now\n",
    "            if answer > 0:\n",
    "                break\n",
    "            else : \n",
    "                prices.remove(min_now)\n",
    "                iteration += 1\n",
    "    return(answer)"
   ]
  },
  {
   "cell_type": "code",
   "execution_count": null,
   "id": "cc07642a",
   "metadata": {},
   "outputs": [],
   "source": [
    "def maxProfit(prices):\n",
    "    if not prices:\n",
    "        return 0\n",
    "\n",
    "    maxProfit = 0\n",
    "    minPurchase = prices[0]\n",
    "    for i in range(1, len(prices)):\t\t\n",
    "        maxProfit = max(maxProfit, prices[i] - minPurchase)\n",
    "        minPurchase = min(minPurchase, prices[i]) # this is the KEY\n",
    "    return maxProfit"
   ]
  },
  {
   "cell_type": "code",
   "execution_count": 223,
   "id": "d3df4890",
   "metadata": {},
   "outputs": [],
   "source": [
    "# 202. Happy Number\n",
    "def isHappy(n):\n",
    "    seen = set() # save what has been tested\n",
    "    while n not in seen:\n",
    "        seen.add(n)\n",
    "        n = sum([int(x) **2 for x in str(n)])\n",
    "        print(seen)\n",
    "    return n == 1"
   ]
  },
  {
   "cell_type": "code",
   "execution_count": 225,
   "id": "68e91e3b",
   "metadata": {},
   "outputs": [
    {
     "name": "stdout",
     "output_type": "stream",
     "text": [
      "{2}\n",
      "{2, 4}\n",
      "{16, 2, 4}\n",
      "{16, 2, 4, 37}\n",
      "{2, 4, 37, 16, 58}\n",
      "{2, 4, 37, 16, 89, 58}\n",
      "{2, 4, 37, 16, 145, 89, 58}\n",
      "{2, 4, 37, 42, 16, 145, 89, 58}\n",
      "{2, 4, 37, 42, 16, 145, 20, 89, 58}\n"
     ]
    },
    {
     "data": {
      "text/plain": [
       "False"
      ]
     },
     "execution_count": 225,
     "metadata": {},
     "output_type": "execute_result"
    }
   ],
   "source": [
    "isHappy(2)"
   ]
  },
  {
   "cell_type": "code",
   "execution_count": 243,
   "id": "503396cd",
   "metadata": {},
   "outputs": [],
   "source": [
    "# 387. First Unique Character in a String\n",
    "def firstUniqChar(s):\n",
    "    seen = []\n",
    "    for i in range(len(s)) :\n",
    "        if s[i] in seen :\n",
    "            continue\n",
    "        else:\n",
    "            if s[i] in s[i+1:] :\n",
    "                seen.append(s[i])\n",
    "            else :\n",
    "                return i\n",
    "                break\n",
    "    return -1"
   ]
  },
  {
   "cell_type": "code",
   "execution_count": 246,
   "id": "35c87e50",
   "metadata": {},
   "outputs": [
    {
     "data": {
      "text/plain": [
       "-1"
      ]
     },
     "execution_count": 246,
     "metadata": {},
     "output_type": "execute_result"
    }
   ],
   "source": [
    "s = \"aabb\"\n",
    "firstUniqChar(s)"
   ]
  },
  {
   "cell_type": "code",
   "execution_count": 250,
   "id": "ed1da4ed",
   "metadata": {},
   "outputs": [],
   "source": [
    "# 242. Valid Anagram\n",
    "def isAnagram(s, t):\n",
    "    if len(s) != len(t) :\n",
    "        return False\n",
    "    else :\n",
    "        s_list = []\n",
    "        t_list = []\n",
    "        for s_let in s :\n",
    "            s_list.append(s_let)\n",
    "        for t_let in t :\n",
    "            t_list.append(t_let)\n",
    "        s_list.sort()\n",
    "        t_list.sort()\n",
    "        if s_list == t_list :\n",
    "            return True\n",
    "        else :\n",
    "            return False"
   ]
  },
  {
   "cell_type": "code",
   "execution_count": 251,
   "id": "65ec107e",
   "metadata": {},
   "outputs": [
    {
     "data": {
      "text/plain": [
       "False"
      ]
     },
     "execution_count": 251,
     "metadata": {},
     "output_type": "execute_result"
    }
   ],
   "source": [
    "s = \"rat\"\n",
    "t = \"car\"\n",
    "\n",
    "isAnagram(s, t)"
   ]
  }
 ],
 "metadata": {
  "kernelspec": {
   "display_name": "Python 3 (ipykernel)",
   "language": "python",
   "name": "python3"
  },
  "language_info": {
   "codemirror_mode": {
    "name": "ipython",
    "version": 3
   },
   "file_extension": ".py",
   "mimetype": "text/x-python",
   "name": "python",
   "nbconvert_exporter": "python",
   "pygments_lexer": "ipython3",
   "version": "3.9.15"
  }
 },
 "nbformat": 4,
 "nbformat_minor": 5
}
